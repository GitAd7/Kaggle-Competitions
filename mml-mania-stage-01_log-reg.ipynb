{
 "cells": [
  {
   "cell_type": "code",
   "execution_count": 1,
   "id": "7a873faf",
   "metadata": {
    "execution": {
     "iopub.execute_input": "2025-03-03T12:14:27.963791Z",
     "iopub.status.busy": "2025-03-03T12:14:27.963410Z",
     "iopub.status.idle": "2025-03-03T12:14:29.947174Z",
     "shell.execute_reply": "2025-03-03T12:14:29.946425Z"
    },
    "papermill": {
     "duration": 1.992661,
     "end_time": "2025-03-03T12:14:29.948734",
     "exception": false,
     "start_time": "2025-03-03T12:14:27.956073",
     "status": "completed"
    },
    "tags": []
   },
   "outputs": [],
   "source": [
    "import pandas as pd\n",
    "import numpy as np\n",
    "import matplotlib.pyplot as plt\n",
    "import seaborn as sns"
   ]
  },
  {
   "cell_type": "markdown",
   "id": "9ad7c775",
   "metadata": {
    "papermill": {
     "duration": 0.005352,
     "end_time": "2025-03-03T12:14:29.960115",
     "exception": false,
     "start_time": "2025-03-03T12:14:29.954763",
     "status": "completed"
    },
    "tags": []
   },
   "source": [
    "## For Men's"
   ]
  },
  {
   "cell_type": "code",
   "execution_count": 2,
   "id": "55c3717c",
   "metadata": {
    "execution": {
     "iopub.execute_input": "2025-03-03T12:14:29.972583Z",
     "iopub.status.busy": "2025-03-03T12:14:29.972116Z",
     "iopub.status.idle": "2025-03-03T12:14:30.167037Z",
     "shell.execute_reply": "2025-03-03T12:14:30.166309Z"
    },
    "papermill": {
     "duration": 0.202814,
     "end_time": "2025-03-03T12:14:30.168500",
     "exception": false,
     "start_time": "2025-03-03T12:14:29.965686",
     "status": "completed"
    },
    "tags": []
   },
   "outputs": [],
   "source": [
    "## Reading All the Dataset required for making prediction\n",
    "teams = pd.read_csv('/kaggle/input/march-machine-learning-mania-2025/MTeams.csv')\n",
    "seasons = pd.read_csv('/kaggle/input/march-machine-learning-mania-2025/MSeasons.csv')\n",
    "trny_seeds = pd.read_csv('/kaggle/input/march-machine-learning-mania-2025/MNCAATourneySeeds.csv')\n",
    "reg_sns_cmpt_rst = pd.read_csv('/kaggle/input/march-machine-learning-mania-2025/MRegularSeasonCompactResults.csv')\n",
    "trny_cmpt_rst = pd.read_csv('/kaggle/input/march-machine-learning-mania-2025/MNCAATourneyCompactResults.csv')"
   ]
  },
  {
   "cell_type": "markdown",
   "id": "e68208d4",
   "metadata": {
    "papermill": {
     "duration": 0.005253,
     "end_time": "2025-03-03T12:14:30.179625",
     "exception": false,
     "start_time": "2025-03-03T12:14:30.174372",
     "status": "completed"
    },
    "tags": []
   },
   "source": [
    "---\n",
    "Analyzing the all the datasets one by one\n",
    "---"
   ]
  },
  {
   "cell_type": "code",
   "execution_count": 3,
   "id": "c7165f78",
   "metadata": {
    "execution": {
     "iopub.execute_input": "2025-03-03T12:14:30.191227Z",
     "iopub.status.busy": "2025-03-03T12:14:30.190958Z",
     "iopub.status.idle": "2025-03-03T12:14:30.209014Z",
     "shell.execute_reply": "2025-03-03T12:14:30.207908Z"
    },
    "papermill": {
     "duration": 0.025108,
     "end_time": "2025-03-03T12:14:30.210182",
     "exception": false,
     "start_time": "2025-03-03T12:14:30.185074",
     "status": "completed"
    },
    "tags": []
   },
   "outputs": [
    {
     "data": {
      "text/html": [
       "<div>\n",
       "<style scoped>\n",
       "    .dataframe tbody tr th:only-of-type {\n",
       "        vertical-align: middle;\n",
       "    }\n",
       "\n",
       "    .dataframe tbody tr th {\n",
       "        vertical-align: top;\n",
       "    }\n",
       "\n",
       "    .dataframe thead th {\n",
       "        text-align: right;\n",
       "    }\n",
       "</style>\n",
       "<table border=\"1\" class=\"dataframe\">\n",
       "  <thead>\n",
       "    <tr style=\"text-align: right;\">\n",
       "      <th></th>\n",
       "      <th>TeamID</th>\n",
       "      <th>TeamName</th>\n",
       "      <th>FirstD1Season</th>\n",
       "      <th>LastD1Season</th>\n",
       "    </tr>\n",
       "  </thead>\n",
       "  <tbody>\n",
       "    <tr>\n",
       "      <th>0</th>\n",
       "      <td>1101</td>\n",
       "      <td>Abilene Chr</td>\n",
       "      <td>2014</td>\n",
       "      <td>2025</td>\n",
       "    </tr>\n",
       "    <tr>\n",
       "      <th>1</th>\n",
       "      <td>1102</td>\n",
       "      <td>Air Force</td>\n",
       "      <td>1985</td>\n",
       "      <td>2025</td>\n",
       "    </tr>\n",
       "    <tr>\n",
       "      <th>2</th>\n",
       "      <td>1103</td>\n",
       "      <td>Akron</td>\n",
       "      <td>1985</td>\n",
       "      <td>2025</td>\n",
       "    </tr>\n",
       "    <tr>\n",
       "      <th>3</th>\n",
       "      <td>1104</td>\n",
       "      <td>Alabama</td>\n",
       "      <td>1985</td>\n",
       "      <td>2025</td>\n",
       "    </tr>\n",
       "    <tr>\n",
       "      <th>4</th>\n",
       "      <td>1105</td>\n",
       "      <td>Alabama A&amp;M</td>\n",
       "      <td>2000</td>\n",
       "      <td>2025</td>\n",
       "    </tr>\n",
       "  </tbody>\n",
       "</table>\n",
       "</div>"
      ],
      "text/plain": [
       "   TeamID     TeamName  FirstD1Season  LastD1Season\n",
       "0    1101  Abilene Chr           2014          2025\n",
       "1    1102    Air Force           1985          2025\n",
       "2    1103        Akron           1985          2025\n",
       "3    1104      Alabama           1985          2025\n",
       "4    1105  Alabama A&M           2000          2025"
      ]
     },
     "execution_count": 3,
     "metadata": {},
     "output_type": "execute_result"
    }
   ],
   "source": [
    "teams.head()"
   ]
  },
  {
   "cell_type": "code",
   "execution_count": 4,
   "id": "c4285d31",
   "metadata": {
    "execution": {
     "iopub.execute_input": "2025-03-03T12:14:30.222332Z",
     "iopub.status.busy": "2025-03-03T12:14:30.222032Z",
     "iopub.status.idle": "2025-03-03T12:14:30.226849Z",
     "shell.execute_reply": "2025-03-03T12:14:30.226071Z"
    },
    "papermill": {
     "duration": 0.012306,
     "end_time": "2025-03-03T12:14:30.228152",
     "exception": false,
     "start_time": "2025-03-03T12:14:30.215846",
     "status": "completed"
    },
    "tags": []
   },
   "outputs": [
    {
     "data": {
      "text/plain": [
       "(380, 4)"
      ]
     },
     "execution_count": 4,
     "metadata": {},
     "output_type": "execute_result"
    }
   ],
   "source": [
    "teams.shape"
   ]
  },
  {
   "cell_type": "code",
   "execution_count": 5,
   "id": "4bc1a4ea",
   "metadata": {
    "execution": {
     "iopub.execute_input": "2025-03-03T12:14:30.241153Z",
     "iopub.status.busy": "2025-03-03T12:14:30.240911Z",
     "iopub.status.idle": "2025-03-03T12:14:30.262073Z",
     "shell.execute_reply": "2025-03-03T12:14:30.261040Z"
    },
    "papermill": {
     "duration": 0.028657,
     "end_time": "2025-03-03T12:14:30.263225",
     "exception": false,
     "start_time": "2025-03-03T12:14:30.234568",
     "status": "completed"
    },
    "tags": []
   },
   "outputs": [
    {
     "name": "stdout",
     "output_type": "stream",
     "text": [
      "<class 'pandas.core.frame.DataFrame'>\n",
      "RangeIndex: 380 entries, 0 to 379\n",
      "Data columns (total 4 columns):\n",
      " #   Column         Non-Null Count  Dtype \n",
      "---  ------         --------------  ----- \n",
      " 0   TeamID         380 non-null    int64 \n",
      " 1   TeamName       380 non-null    object\n",
      " 2   FirstD1Season  380 non-null    int64 \n",
      " 3   LastD1Season   380 non-null    int64 \n",
      "dtypes: int64(3), object(1)\n",
      "memory usage: 12.0+ KB\n"
     ]
    }
   ],
   "source": [
    "teams.info()"
   ]
  },
  {
   "cell_type": "code",
   "execution_count": 6,
   "id": "27762e09",
   "metadata": {
    "execution": {
     "iopub.execute_input": "2025-03-03T12:14:30.275874Z",
     "iopub.status.busy": "2025-03-03T12:14:30.275631Z",
     "iopub.status.idle": "2025-03-03T12:14:30.283931Z",
     "shell.execute_reply": "2025-03-03T12:14:30.283137Z"
    },
    "papermill": {
     "duration": 0.015629,
     "end_time": "2025-03-03T12:14:30.285068",
     "exception": false,
     "start_time": "2025-03-03T12:14:30.269439",
     "status": "completed"
    },
    "tags": []
   },
   "outputs": [
    {
     "data": {
      "text/html": [
       "<div>\n",
       "<style scoped>\n",
       "    .dataframe tbody tr th:only-of-type {\n",
       "        vertical-align: middle;\n",
       "    }\n",
       "\n",
       "    .dataframe tbody tr th {\n",
       "        vertical-align: top;\n",
       "    }\n",
       "\n",
       "    .dataframe thead th {\n",
       "        text-align: right;\n",
       "    }\n",
       "</style>\n",
       "<table border=\"1\" class=\"dataframe\">\n",
       "  <thead>\n",
       "    <tr style=\"text-align: right;\">\n",
       "      <th></th>\n",
       "      <th>Season</th>\n",
       "      <th>DayZero</th>\n",
       "      <th>RegionW</th>\n",
       "      <th>RegionX</th>\n",
       "      <th>RegionY</th>\n",
       "      <th>RegionZ</th>\n",
       "    </tr>\n",
       "  </thead>\n",
       "  <tbody>\n",
       "    <tr>\n",
       "      <th>0</th>\n",
       "      <td>1985</td>\n",
       "      <td>10/29/1984</td>\n",
       "      <td>East</td>\n",
       "      <td>West</td>\n",
       "      <td>Midwest</td>\n",
       "      <td>Southeast</td>\n",
       "    </tr>\n",
       "    <tr>\n",
       "      <th>1</th>\n",
       "      <td>1986</td>\n",
       "      <td>10/28/1985</td>\n",
       "      <td>East</td>\n",
       "      <td>Midwest</td>\n",
       "      <td>Southeast</td>\n",
       "      <td>West</td>\n",
       "    </tr>\n",
       "    <tr>\n",
       "      <th>2</th>\n",
       "      <td>1987</td>\n",
       "      <td>10/27/1986</td>\n",
       "      <td>East</td>\n",
       "      <td>Southeast</td>\n",
       "      <td>Midwest</td>\n",
       "      <td>West</td>\n",
       "    </tr>\n",
       "    <tr>\n",
       "      <th>3</th>\n",
       "      <td>1988</td>\n",
       "      <td>11/02/1987</td>\n",
       "      <td>East</td>\n",
       "      <td>Midwest</td>\n",
       "      <td>Southeast</td>\n",
       "      <td>West</td>\n",
       "    </tr>\n",
       "    <tr>\n",
       "      <th>4</th>\n",
       "      <td>1989</td>\n",
       "      <td>10/31/1988</td>\n",
       "      <td>East</td>\n",
       "      <td>West</td>\n",
       "      <td>Midwest</td>\n",
       "      <td>Southeast</td>\n",
       "    </tr>\n",
       "  </tbody>\n",
       "</table>\n",
       "</div>"
      ],
      "text/plain": [
       "   Season     DayZero RegionW    RegionX    RegionY    RegionZ\n",
       "0    1985  10/29/1984    East       West    Midwest  Southeast\n",
       "1    1986  10/28/1985    East    Midwest  Southeast       West\n",
       "2    1987  10/27/1986    East  Southeast    Midwest       West\n",
       "3    1988  11/02/1987    East    Midwest  Southeast       West\n",
       "4    1989  10/31/1988    East       West    Midwest  Southeast"
      ]
     },
     "execution_count": 6,
     "metadata": {},
     "output_type": "execute_result"
    }
   ],
   "source": [
    "seasons.head()"
   ]
  },
  {
   "cell_type": "code",
   "execution_count": 7,
   "id": "6a8fd821",
   "metadata": {
    "execution": {
     "iopub.execute_input": "2025-03-03T12:14:30.298593Z",
     "iopub.status.busy": "2025-03-03T12:14:30.298295Z",
     "iopub.status.idle": "2025-03-03T12:14:30.304265Z",
     "shell.execute_reply": "2025-03-03T12:14:30.303504Z"
    },
    "papermill": {
     "duration": 0.013814,
     "end_time": "2025-03-03T12:14:30.305382",
     "exception": false,
     "start_time": "2025-03-03T12:14:30.291568",
     "status": "completed"
    },
    "tags": []
   },
   "outputs": [
    {
     "data": {
      "text/plain": [
       "Season     0\n",
       "DayZero    0\n",
       "RegionW    0\n",
       "RegionX    0\n",
       "RegionY    0\n",
       "RegionZ    0\n",
       "dtype: int64"
      ]
     },
     "execution_count": 7,
     "metadata": {},
     "output_type": "execute_result"
    }
   ],
   "source": [
    "seasons.isnull().sum()"
   ]
  },
  {
   "cell_type": "code",
   "execution_count": 8,
   "id": "e3c82b66",
   "metadata": {
    "execution": {
     "iopub.execute_input": "2025-03-03T12:14:30.318642Z",
     "iopub.status.busy": "2025-03-03T12:14:30.318331Z",
     "iopub.status.idle": "2025-03-03T12:14:30.325054Z",
     "shell.execute_reply": "2025-03-03T12:14:30.324382Z"
    },
    "papermill": {
     "duration": 0.0144,
     "end_time": "2025-03-03T12:14:30.326149",
     "exception": false,
     "start_time": "2025-03-03T12:14:30.311749",
     "status": "completed"
    },
    "tags": []
   },
   "outputs": [
    {
     "data": {
      "text/html": [
       "<div>\n",
       "<style scoped>\n",
       "    .dataframe tbody tr th:only-of-type {\n",
       "        vertical-align: middle;\n",
       "    }\n",
       "\n",
       "    .dataframe tbody tr th {\n",
       "        vertical-align: top;\n",
       "    }\n",
       "\n",
       "    .dataframe thead th {\n",
       "        text-align: right;\n",
       "    }\n",
       "</style>\n",
       "<table border=\"1\" class=\"dataframe\">\n",
       "  <thead>\n",
       "    <tr style=\"text-align: right;\">\n",
       "      <th></th>\n",
       "      <th>Season</th>\n",
       "      <th>Seed</th>\n",
       "      <th>TeamID</th>\n",
       "    </tr>\n",
       "  </thead>\n",
       "  <tbody>\n",
       "    <tr>\n",
       "      <th>0</th>\n",
       "      <td>1985</td>\n",
       "      <td>W01</td>\n",
       "      <td>1207</td>\n",
       "    </tr>\n",
       "    <tr>\n",
       "      <th>1</th>\n",
       "      <td>1985</td>\n",
       "      <td>W02</td>\n",
       "      <td>1210</td>\n",
       "    </tr>\n",
       "    <tr>\n",
       "      <th>2</th>\n",
       "      <td>1985</td>\n",
       "      <td>W03</td>\n",
       "      <td>1228</td>\n",
       "    </tr>\n",
       "    <tr>\n",
       "      <th>3</th>\n",
       "      <td>1985</td>\n",
       "      <td>W04</td>\n",
       "      <td>1260</td>\n",
       "    </tr>\n",
       "    <tr>\n",
       "      <th>4</th>\n",
       "      <td>1985</td>\n",
       "      <td>W05</td>\n",
       "      <td>1374</td>\n",
       "    </tr>\n",
       "  </tbody>\n",
       "</table>\n",
       "</div>"
      ],
      "text/plain": [
       "   Season Seed  TeamID\n",
       "0    1985  W01    1207\n",
       "1    1985  W02    1210\n",
       "2    1985  W03    1228\n",
       "3    1985  W04    1260\n",
       "4    1985  W05    1374"
      ]
     },
     "execution_count": 8,
     "metadata": {},
     "output_type": "execute_result"
    }
   ],
   "source": [
    "trny_seeds.head()"
   ]
  },
  {
   "cell_type": "code",
   "execution_count": 9,
   "id": "34211914",
   "metadata": {
    "execution": {
     "iopub.execute_input": "2025-03-03T12:14:30.339612Z",
     "iopub.status.busy": "2025-03-03T12:14:30.339323Z",
     "iopub.status.idle": "2025-03-03T12:14:30.343725Z",
     "shell.execute_reply": "2025-03-03T12:14:30.343056Z"
    },
    "papermill": {
     "duration": 0.012398,
     "end_time": "2025-03-03T12:14:30.344872",
     "exception": false,
     "start_time": "2025-03-03T12:14:30.332474",
     "status": "completed"
    },
    "tags": []
   },
   "outputs": [
    {
     "data": {
      "text/plain": [
       "(2558, 3)"
      ]
     },
     "execution_count": 9,
     "metadata": {},
     "output_type": "execute_result"
    }
   ],
   "source": [
    "trny_seeds.shape"
   ]
  },
  {
   "cell_type": "code",
   "execution_count": 10,
   "id": "e2242a91",
   "metadata": {
    "execution": {
     "iopub.execute_input": "2025-03-03T12:14:30.359519Z",
     "iopub.status.busy": "2025-03-03T12:14:30.359141Z",
     "iopub.status.idle": "2025-03-03T12:14:30.365183Z",
     "shell.execute_reply": "2025-03-03T12:14:30.364403Z"
    },
    "papermill": {
     "duration": 0.014629,
     "end_time": "2025-03-03T12:14:30.366278",
     "exception": false,
     "start_time": "2025-03-03T12:14:30.351649",
     "status": "completed"
    },
    "tags": []
   },
   "outputs": [
    {
     "data": {
      "text/plain": [
       "Season    0\n",
       "Seed      0\n",
       "TeamID    0\n",
       "dtype: int64"
      ]
     },
     "execution_count": 10,
     "metadata": {},
     "output_type": "execute_result"
    }
   ],
   "source": [
    "trny_seeds.isnull().sum()"
   ]
  },
  {
   "cell_type": "code",
   "execution_count": 11,
   "id": "7090f13f",
   "metadata": {
    "execution": {
     "iopub.execute_input": "2025-03-03T12:14:30.379636Z",
     "iopub.status.busy": "2025-03-03T12:14:30.379361Z",
     "iopub.status.idle": "2025-03-03T12:14:30.386944Z",
     "shell.execute_reply": "2025-03-03T12:14:30.386304Z"
    },
    "papermill": {
     "duration": 0.015213,
     "end_time": "2025-03-03T12:14:30.387978",
     "exception": false,
     "start_time": "2025-03-03T12:14:30.372765",
     "status": "completed"
    },
    "tags": []
   },
   "outputs": [
    {
     "data": {
      "text/html": [
       "<div>\n",
       "<style scoped>\n",
       "    .dataframe tbody tr th:only-of-type {\n",
       "        vertical-align: middle;\n",
       "    }\n",
       "\n",
       "    .dataframe tbody tr th {\n",
       "        vertical-align: top;\n",
       "    }\n",
       "\n",
       "    .dataframe thead th {\n",
       "        text-align: right;\n",
       "    }\n",
       "</style>\n",
       "<table border=\"1\" class=\"dataframe\">\n",
       "  <thead>\n",
       "    <tr style=\"text-align: right;\">\n",
       "      <th></th>\n",
       "      <th>Season</th>\n",
       "      <th>DayNum</th>\n",
       "      <th>WTeamID</th>\n",
       "      <th>WScore</th>\n",
       "      <th>LTeamID</th>\n",
       "      <th>LScore</th>\n",
       "      <th>WLoc</th>\n",
       "      <th>NumOT</th>\n",
       "    </tr>\n",
       "  </thead>\n",
       "  <tbody>\n",
       "    <tr>\n",
       "      <th>0</th>\n",
       "      <td>1985</td>\n",
       "      <td>20</td>\n",
       "      <td>1228</td>\n",
       "      <td>81</td>\n",
       "      <td>1328</td>\n",
       "      <td>64</td>\n",
       "      <td>N</td>\n",
       "      <td>0</td>\n",
       "    </tr>\n",
       "    <tr>\n",
       "      <th>1</th>\n",
       "      <td>1985</td>\n",
       "      <td>25</td>\n",
       "      <td>1106</td>\n",
       "      <td>77</td>\n",
       "      <td>1354</td>\n",
       "      <td>70</td>\n",
       "      <td>H</td>\n",
       "      <td>0</td>\n",
       "    </tr>\n",
       "    <tr>\n",
       "      <th>2</th>\n",
       "      <td>1985</td>\n",
       "      <td>25</td>\n",
       "      <td>1112</td>\n",
       "      <td>63</td>\n",
       "      <td>1223</td>\n",
       "      <td>56</td>\n",
       "      <td>H</td>\n",
       "      <td>0</td>\n",
       "    </tr>\n",
       "    <tr>\n",
       "      <th>3</th>\n",
       "      <td>1985</td>\n",
       "      <td>25</td>\n",
       "      <td>1165</td>\n",
       "      <td>70</td>\n",
       "      <td>1432</td>\n",
       "      <td>54</td>\n",
       "      <td>H</td>\n",
       "      <td>0</td>\n",
       "    </tr>\n",
       "    <tr>\n",
       "      <th>4</th>\n",
       "      <td>1985</td>\n",
       "      <td>25</td>\n",
       "      <td>1192</td>\n",
       "      <td>86</td>\n",
       "      <td>1447</td>\n",
       "      <td>74</td>\n",
       "      <td>H</td>\n",
       "      <td>0</td>\n",
       "    </tr>\n",
       "  </tbody>\n",
       "</table>\n",
       "</div>"
      ],
      "text/plain": [
       "   Season  DayNum  WTeamID  WScore  LTeamID  LScore WLoc  NumOT\n",
       "0    1985      20     1228      81     1328      64    N      0\n",
       "1    1985      25     1106      77     1354      70    H      0\n",
       "2    1985      25     1112      63     1223      56    H      0\n",
       "3    1985      25     1165      70     1432      54    H      0\n",
       "4    1985      25     1192      86     1447      74    H      0"
      ]
     },
     "execution_count": 11,
     "metadata": {},
     "output_type": "execute_result"
    }
   ],
   "source": [
    "reg_sns_cmpt_rst.head()"
   ]
  },
  {
   "cell_type": "code",
   "execution_count": 12,
   "id": "5c4eebdc",
   "metadata": {
    "execution": {
     "iopub.execute_input": "2025-03-03T12:14:30.401404Z",
     "iopub.status.busy": "2025-03-03T12:14:30.401100Z",
     "iopub.status.idle": "2025-03-03T12:14:30.417276Z",
     "shell.execute_reply": "2025-03-03T12:14:30.416517Z"
    },
    "papermill": {
     "duration": 0.024338,
     "end_time": "2025-03-03T12:14:30.418563",
     "exception": false,
     "start_time": "2025-03-03T12:14:30.394225",
     "status": "completed"
    },
    "tags": []
   },
   "outputs": [
    {
     "data": {
      "text/plain": [
       "Season     0\n",
       "DayNum     0\n",
       "WTeamID    0\n",
       "WScore     0\n",
       "LTeamID    0\n",
       "LScore     0\n",
       "WLoc       0\n",
       "NumOT      0\n",
       "dtype: int64"
      ]
     },
     "execution_count": 12,
     "metadata": {},
     "output_type": "execute_result"
    }
   ],
   "source": [
    "reg_sns_cmpt_rst.isnull().sum()"
   ]
  },
  {
   "cell_type": "code",
   "execution_count": 13,
   "id": "0eef5aef",
   "metadata": {
    "execution": {
     "iopub.execute_input": "2025-03-03T12:14:30.433007Z",
     "iopub.status.busy": "2025-03-03T12:14:30.432737Z",
     "iopub.status.idle": "2025-03-03T12:14:30.440816Z",
     "shell.execute_reply": "2025-03-03T12:14:30.439964Z"
    },
    "papermill": {
     "duration": 0.016449,
     "end_time": "2025-03-03T12:14:30.441880",
     "exception": false,
     "start_time": "2025-03-03T12:14:30.425431",
     "status": "completed"
    },
    "tags": []
   },
   "outputs": [
    {
     "data": {
      "text/html": [
       "<div>\n",
       "<style scoped>\n",
       "    .dataframe tbody tr th:only-of-type {\n",
       "        vertical-align: middle;\n",
       "    }\n",
       "\n",
       "    .dataframe tbody tr th {\n",
       "        vertical-align: top;\n",
       "    }\n",
       "\n",
       "    .dataframe thead th {\n",
       "        text-align: right;\n",
       "    }\n",
       "</style>\n",
       "<table border=\"1\" class=\"dataframe\">\n",
       "  <thead>\n",
       "    <tr style=\"text-align: right;\">\n",
       "      <th></th>\n",
       "      <th>Season</th>\n",
       "      <th>DayNum</th>\n",
       "      <th>WTeamID</th>\n",
       "      <th>WScore</th>\n",
       "      <th>LTeamID</th>\n",
       "      <th>LScore</th>\n",
       "      <th>WLoc</th>\n",
       "      <th>NumOT</th>\n",
       "    </tr>\n",
       "  </thead>\n",
       "  <tbody>\n",
       "    <tr>\n",
       "      <th>0</th>\n",
       "      <td>1985</td>\n",
       "      <td>136</td>\n",
       "      <td>1116</td>\n",
       "      <td>63</td>\n",
       "      <td>1234</td>\n",
       "      <td>54</td>\n",
       "      <td>N</td>\n",
       "      <td>0</td>\n",
       "    </tr>\n",
       "    <tr>\n",
       "      <th>1</th>\n",
       "      <td>1985</td>\n",
       "      <td>136</td>\n",
       "      <td>1120</td>\n",
       "      <td>59</td>\n",
       "      <td>1345</td>\n",
       "      <td>58</td>\n",
       "      <td>N</td>\n",
       "      <td>0</td>\n",
       "    </tr>\n",
       "    <tr>\n",
       "      <th>2</th>\n",
       "      <td>1985</td>\n",
       "      <td>136</td>\n",
       "      <td>1207</td>\n",
       "      <td>68</td>\n",
       "      <td>1250</td>\n",
       "      <td>43</td>\n",
       "      <td>N</td>\n",
       "      <td>0</td>\n",
       "    </tr>\n",
       "    <tr>\n",
       "      <th>3</th>\n",
       "      <td>1985</td>\n",
       "      <td>136</td>\n",
       "      <td>1229</td>\n",
       "      <td>58</td>\n",
       "      <td>1425</td>\n",
       "      <td>55</td>\n",
       "      <td>N</td>\n",
       "      <td>0</td>\n",
       "    </tr>\n",
       "    <tr>\n",
       "      <th>4</th>\n",
       "      <td>1985</td>\n",
       "      <td>136</td>\n",
       "      <td>1242</td>\n",
       "      <td>49</td>\n",
       "      <td>1325</td>\n",
       "      <td>38</td>\n",
       "      <td>N</td>\n",
       "      <td>0</td>\n",
       "    </tr>\n",
       "  </tbody>\n",
       "</table>\n",
       "</div>"
      ],
      "text/plain": [
       "   Season  DayNum  WTeamID  WScore  LTeamID  LScore WLoc  NumOT\n",
       "0    1985     136     1116      63     1234      54    N      0\n",
       "1    1985     136     1120      59     1345      58    N      0\n",
       "2    1985     136     1207      68     1250      43    N      0\n",
       "3    1985     136     1229      58     1425      55    N      0\n",
       "4    1985     136     1242      49     1325      38    N      0"
      ]
     },
     "execution_count": 13,
     "metadata": {},
     "output_type": "execute_result"
    }
   ],
   "source": [
    "trny_cmpt_rst.head()"
   ]
  },
  {
   "cell_type": "code",
   "execution_count": 14,
   "id": "ad5cbb45",
   "metadata": {
    "execution": {
     "iopub.execute_input": "2025-03-03T12:14:30.456184Z",
     "iopub.status.busy": "2025-03-03T12:14:30.455899Z",
     "iopub.status.idle": "2025-03-03T12:14:30.461175Z",
     "shell.execute_reply": "2025-03-03T12:14:30.460567Z"
    },
    "papermill": {
     "duration": 0.013692,
     "end_time": "2025-03-03T12:14:30.462493",
     "exception": false,
     "start_time": "2025-03-03T12:14:30.448801",
     "status": "completed"
    },
    "tags": []
   },
   "outputs": [
    {
     "data": {
      "text/plain": [
       "Season     0\n",
       "DayNum     0\n",
       "WTeamID    0\n",
       "WScore     0\n",
       "LTeamID    0\n",
       "LScore     0\n",
       "WLoc       0\n",
       "NumOT      0\n",
       "dtype: int64"
      ]
     },
     "execution_count": 14,
     "metadata": {},
     "output_type": "execute_result"
    }
   ],
   "source": [
    "trny_cmpt_rst.isnull().sum()"
   ]
  },
  {
   "cell_type": "markdown",
   "id": "a787a6ae",
   "metadata": {
    "papermill": {
     "duration": 0.006117,
     "end_time": "2025-03-03T12:14:30.475738",
     "exception": false,
     "start_time": "2025-03-03T12:14:30.469621",
     "status": "completed"
    },
    "tags": []
   },
   "source": [
    "-- The Basic analysis clears one thing that there are no nulls present in any of the dataset.\n",
    "\n",
    "-- Since this is a sports data, there will be some duplicates for sure, due to continous matchup between teams."
   ]
  },
  {
   "cell_type": "code",
   "execution_count": 15,
   "id": "da2c7650",
   "metadata": {
    "execution": {
     "iopub.execute_input": "2025-03-03T12:14:30.489209Z",
     "iopub.status.busy": "2025-03-03T12:14:30.488980Z",
     "iopub.status.idle": "2025-03-03T12:14:31.427796Z",
     "shell.execute_reply": "2025-03-03T12:14:31.427002Z"
    },
    "papermill": {
     "duration": 0.946921,
     "end_time": "2025-03-03T12:14:31.428951",
     "exception": false,
     "start_time": "2025-03-03T12:14:30.482030",
     "status": "completed"
    },
    "tags": []
   },
   "outputs": [
    {
     "name": "stderr",
     "output_type": "stream",
     "text": [
      "/usr/local/lib/python3.10/dist-packages/seaborn/_oldcore.py:1119: FutureWarning: use_inf_as_na option is deprecated and will be removed in a future version. Convert inf values to NaN before operating instead.\n",
      "  with pd.option_context('mode.use_inf_as_na', True):\n"
     ]
    },
    {
     "data": {
      "image/png": "[encoded data removed]",
      "text/plain": [
       "<Figure size 800x500 with 1 Axes>"
      ]
     },
     "metadata": {},
     "output_type": "display_data"
    }
   ],
   "source": [
    "plt.figure(figsize=(8,5))\n",
    "sns.histplot(reg_sns_cmpt_rst['WScore'] - reg_sns_cmpt_rst['LScore'], bins=30, kde=True)\n",
    "plt.title(\"Distribution of Winning Margin\")\n",
    "plt.xlabel(\"Winning Margin\")\n",
    "plt.show()"
   ]
  },
  {
   "cell_type": "markdown",
   "id": "977205d5",
   "metadata": {
    "papermill": {
     "duration": 0.006712,
     "end_time": "2025-03-03T12:14:31.443091",
     "exception": false,
     "start_time": "2025-03-03T12:14:31.436379",
     "status": "completed"
    },
    "tags": []
   },
   "source": [
    "## Feature Engineering\n",
    "To make prediction of the possible team winning, we need to do make the following columns\n",
    "1. Team Win Rate\n",
    "2. Average Points Per game\n",
    "3. Seed Rank"
   ]
  },
  {
   "cell_type": "code",
   "execution_count": 16,
   "id": "e815c7bf",
   "metadata": {
    "execution": {
     "iopub.execute_input": "2025-03-03T12:14:31.457773Z",
     "iopub.status.busy": "2025-03-03T12:14:31.457488Z",
     "iopub.status.idle": "2025-03-03T12:14:31.474677Z",
     "shell.execute_reply": "2025-03-03T12:14:31.473845Z"
    },
    "papermill": {
     "duration": 0.026035,
     "end_time": "2025-03-03T12:14:31.475929",
     "exception": false,
     "start_time": "2025-03-03T12:14:31.449894",
     "status": "completed"
    },
    "tags": []
   },
   "outputs": [],
   "source": [
    "## function for calculating the team winning rate\n",
    "def compute_win_rate(df):\n",
    "    win_count = df.groupby(\"WTeamID\").size().reset_index(name=\"Wins\")\n",
    "    loss_count = df.groupby(\"LTeamID\").size().reset_index(name=\"Losses\")\n",
    "\n",
    "    team_stats = win_count.merge(loss_count, left_on=\"WTeamID\", right_on=\"LTeamID\", how=\"outer\").fillna(0)\n",
    "    team_stats[\"TeamID\"] = team_stats[\"WTeamID\"].combine_first(team_stats[\"LTeamID\"])\n",
    "    \n",
    "    team_stats[\"WinRate\"] = team_stats[\"Wins\"] / (team_stats[\"Wins\"] + team_stats[\"Losses\"])\n",
    "    return team_stats[[\"TeamID\", \"WinRate\"]]\n",
    "\n",
    "m_team_win_rate = compute_win_rate(reg_sns_cmpt_rst)"
   ]
  },
  {
   "cell_type": "code",
   "execution_count": 17,
   "id": "ceee6651",
   "metadata": {
    "execution": {
     "iopub.execute_input": "2025-03-03T12:14:31.491160Z",
     "iopub.status.busy": "2025-03-03T12:14:31.490910Z",
     "iopub.status.idle": "2025-03-03T12:14:31.497781Z",
     "shell.execute_reply": "2025-03-03T12:14:31.497115Z"
    },
    "papermill": {
     "duration": 0.016038,
     "end_time": "2025-03-03T12:14:31.499506",
     "exception": false,
     "start_time": "2025-03-03T12:14:31.483468",
     "status": "completed"
    },
    "tags": []
   },
   "outputs": [
    {
     "data": {
      "text/html": [
       "<div>\n",
       "<style scoped>\n",
       "    .dataframe tbody tr th:only-of-type {\n",
       "        vertical-align: middle;\n",
       "    }\n",
       "\n",
       "    .dataframe tbody tr th {\n",
       "        vertical-align: top;\n",
       "    }\n",
       "\n",
       "    .dataframe thead th {\n",
       "        text-align: right;\n",
       "    }\n",
       "</style>\n",
       "<table border=\"1\" class=\"dataframe\">\n",
       "  <thead>\n",
       "    <tr style=\"text-align: right;\">\n",
       "      <th></th>\n",
       "      <th>TeamID</th>\n",
       "      <th>WinRate</th>\n",
       "    </tr>\n",
       "  </thead>\n",
       "  <tbody>\n",
       "    <tr>\n",
       "      <th>0</th>\n",
       "      <td>1101</td>\n",
       "      <td>0.469841</td>\n",
       "    </tr>\n",
       "    <tr>\n",
       "      <th>1</th>\n",
       "      <td>1102</td>\n",
       "      <td>0.357466</td>\n",
       "    </tr>\n",
       "    <tr>\n",
       "      <th>2</th>\n",
       "      <td>1103</td>\n",
       "      <td>0.587383</td>\n",
       "    </tr>\n",
       "    <tr>\n",
       "      <th>3</th>\n",
       "      <td>1104</td>\n",
       "      <td>0.631454</td>\n",
       "    </tr>\n",
       "    <tr>\n",
       "      <th>4</th>\n",
       "      <td>1105</td>\n",
       "      <td>0.348571</td>\n",
       "    </tr>\n",
       "  </tbody>\n",
       "</table>\n",
       "</div>"
      ],
      "text/plain": [
       "   TeamID   WinRate\n",
       "0    1101  0.469841\n",
       "1    1102  0.357466\n",
       "2    1103  0.587383\n",
       "3    1104  0.631454\n",
       "4    1105  0.348571"
      ]
     },
     "execution_count": 17,
     "metadata": {},
     "output_type": "execute_result"
    }
   ],
   "source": [
    "m_team_win_rate.head()"
   ]
  },
  {
   "cell_type": "code",
   "execution_count": 18,
   "id": "17333098",
   "metadata": {
    "execution": {
     "iopub.execute_input": "2025-03-03T12:14:31.516814Z",
     "iopub.status.busy": "2025-03-03T12:14:31.516521Z",
     "iopub.status.idle": "2025-03-03T12:14:31.531193Z",
     "shell.execute_reply": "2025-03-03T12:14:31.530353Z"
    },
    "papermill": {
     "duration": 0.024665,
     "end_time": "2025-03-03T12:14:31.532657",
     "exception": false,
     "start_time": "2025-03-03T12:14:31.507992",
     "status": "completed"
    },
    "tags": []
   },
   "outputs": [],
   "source": [
    "# function for calculating the Average points per game\n",
    "def compute_avg_points(df):\n",
    "    win_points = df.groupby(\"WTeamID\")[\"WScore\"].mean().reset_index(name=\"AvgWinPoints\")\n",
    "    loss_points = df.groupby(\"LTeamID\")[\"LScore\"].mean().reset_index(name=\"AvgLossPoints\")\n",
    "\n",
    "    team_points = win_points.merge(loss_points, left_on=\"WTeamID\", right_on=\"LTeamID\", how=\"outer\").fillna(0)\n",
    "    team_points[\"TeamID\"] = team_points[\"WTeamID\"].combine_first(team_points[\"LTeamID\"])\n",
    "    \n",
    "    team_points[\"AvgPoints\"] = (team_points[\"AvgWinPoints\"] + team_points[\"AvgLossPoints\"]) / 2\n",
    "    return team_points[[\"TeamID\", \"AvgPoints\"]]\n",
    "\n",
    "m_team_points = compute_avg_points(reg_sns_cmpt_rst)"
   ]
  },
  {
   "cell_type": "code",
   "execution_count": 19,
   "id": "eabfa43d",
   "metadata": {
    "execution": {
     "iopub.execute_input": "2025-03-03T12:14:31.547941Z",
     "iopub.status.busy": "2025-03-03T12:14:31.547723Z",
     "iopub.status.idle": "2025-03-03T12:14:31.553959Z",
     "shell.execute_reply": "2025-03-03T12:14:31.553336Z"
    },
    "papermill": {
     "duration": 0.014849,
     "end_time": "2025-03-03T12:14:31.554972",
     "exception": false,
     "start_time": "2025-03-03T12:14:31.540123",
     "status": "completed"
    },
    "tags": []
   },
   "outputs": [
    {
     "data": {
      "text/html": [
       "<div>\n",
       "<style scoped>\n",
       "    .dataframe tbody tr th:only-of-type {\n",
       "        vertical-align: middle;\n",
       "    }\n",
       "\n",
       "    .dataframe tbody tr th {\n",
       "        vertical-align: top;\n",
       "    }\n",
       "\n",
       "    .dataframe thead th {\n",
       "        text-align: right;\n",
       "    }\n",
       "</style>\n",
       "<table border=\"1\" class=\"dataframe\">\n",
       "  <thead>\n",
       "    <tr style=\"text-align: right;\">\n",
       "      <th></th>\n",
       "      <th>TeamID</th>\n",
       "      <th>AvgPoints</th>\n",
       "    </tr>\n",
       "  </thead>\n",
       "  <tbody>\n",
       "    <tr>\n",
       "      <th>0</th>\n",
       "      <td>1101</td>\n",
       "      <td>70.151359</td>\n",
       "    </tr>\n",
       "    <tr>\n",
       "      <th>1</th>\n",
       "      <td>1102</td>\n",
       "      <td>65.396078</td>\n",
       "    </tr>\n",
       "    <tr>\n",
       "      <th>2</th>\n",
       "      <td>1103</td>\n",
       "      <td>70.425233</td>\n",
       "    </tr>\n",
       "    <tr>\n",
       "      <th>3</th>\n",
       "      <td>1104</td>\n",
       "      <td>71.698483</td>\n",
       "    </tr>\n",
       "    <tr>\n",
       "      <th>4</th>\n",
       "      <td>1105</td>\n",
       "      <td>67.885659</td>\n",
       "    </tr>\n",
       "  </tbody>\n",
       "</table>\n",
       "</div>"
      ],
      "text/plain": [
       "   TeamID  AvgPoints\n",
       "0    1101  70.151359\n",
       "1    1102  65.396078\n",
       "2    1103  70.425233\n",
       "3    1104  71.698483\n",
       "4    1105  67.885659"
      ]
     },
     "execution_count": 19,
     "metadata": {},
     "output_type": "execute_result"
    }
   ],
   "source": [
    "m_team_points.head()"
   ]
  },
  {
   "cell_type": "code",
   "execution_count": 20,
   "id": "562db88e",
   "metadata": {
    "execution": {
     "iopub.execute_input": "2025-03-03T12:14:31.571191Z",
     "iopub.status.busy": "2025-03-03T12:14:31.570955Z",
     "iopub.status.idle": "2025-03-03T12:14:31.578491Z",
     "shell.execute_reply": "2025-03-03T12:14:31.577839Z"
    },
    "papermill": {
     "duration": 0.017258,
     "end_time": "2025-03-03T12:14:31.579537",
     "exception": false,
     "start_time": "2025-03-03T12:14:31.562279",
     "status": "completed"
    },
    "tags": []
   },
   "outputs": [],
   "source": [
    "## Making function for calculating the seeda rank\n",
    "# Convert seed values (W01, X02, etc.) to numeric values\n",
    "def process_seeds(trny_seeds):\n",
    "    trny_seeds[\"SeedRank\"] = trny_seeds[\"Seed\"].str.extract(\"(\\d+)\").astype(int)\n",
    "    return trny_seeds[[\"Season\", \"TeamID\", \"SeedRank\"]]\n",
    "\n",
    "m_seeds_processed = process_seeds(trny_seeds)"
   ]
  },
  {
   "cell_type": "code",
   "execution_count": 21,
   "id": "93d64c89",
   "metadata": {
    "execution": {
     "iopub.execute_input": "2025-03-03T12:14:31.595298Z",
     "iopub.status.busy": "2025-03-03T12:14:31.594987Z",
     "iopub.status.idle": "2025-03-03T12:14:31.601700Z",
     "shell.execute_reply": "2025-03-03T12:14:31.600965Z"
    },
    "papermill": {
     "duration": 0.015724,
     "end_time": "2025-03-03T12:14:31.602794",
     "exception": false,
     "start_time": "2025-03-03T12:14:31.587070",
     "status": "completed"
    },
    "tags": []
   },
   "outputs": [
    {
     "data": {
      "text/html": [
       "<div>\n",
       "<style scoped>\n",
       "    .dataframe tbody tr th:only-of-type {\n",
       "        vertical-align: middle;\n",
       "    }\n",
       "\n",
       "    .dataframe tbody tr th {\n",
       "        vertical-align: top;\n",
       "    }\n",
       "\n",
       "    .dataframe thead th {\n",
       "        text-align: right;\n",
       "    }\n",
       "</style>\n",
       "<table border=\"1\" class=\"dataframe\">\n",
       "  <thead>\n",
       "    <tr style=\"text-align: right;\">\n",
       "      <th></th>\n",
       "      <th>Season</th>\n",
       "      <th>TeamID</th>\n",
       "      <th>SeedRank</th>\n",
       "    </tr>\n",
       "  </thead>\n",
       "  <tbody>\n",
       "    <tr>\n",
       "      <th>0</th>\n",
       "      <td>1985</td>\n",
       "      <td>1207</td>\n",
       "      <td>1</td>\n",
       "    </tr>\n",
       "    <tr>\n",
       "      <th>1</th>\n",
       "      <td>1985</td>\n",
       "      <td>1210</td>\n",
       "      <td>2</td>\n",
       "    </tr>\n",
       "    <tr>\n",
       "      <th>2</th>\n",
       "      <td>1985</td>\n",
       "      <td>1228</td>\n",
       "      <td>3</td>\n",
       "    </tr>\n",
       "    <tr>\n",
       "      <th>3</th>\n",
       "      <td>1985</td>\n",
       "      <td>1260</td>\n",
       "      <td>4</td>\n",
       "    </tr>\n",
       "    <tr>\n",
       "      <th>4</th>\n",
       "      <td>1985</td>\n",
       "      <td>1374</td>\n",
       "      <td>5</td>\n",
       "    </tr>\n",
       "  </tbody>\n",
       "</table>\n",
       "</div>"
      ],
      "text/plain": [
       "   Season  TeamID  SeedRank\n",
       "0    1985    1207         1\n",
       "1    1985    1210         2\n",
       "2    1985    1228         3\n",
       "3    1985    1260         4\n",
       "4    1985    1374         5"
      ]
     },
     "execution_count": 21,
     "metadata": {},
     "output_type": "execute_result"
    }
   ],
   "source": [
    "m_seeds_processed.head()"
   ]
  },
  {
   "cell_type": "code",
   "execution_count": 22,
   "id": "372bb37c",
   "metadata": {
    "execution": {
     "iopub.execute_input": "2025-03-03T12:14:31.618262Z",
     "iopub.status.busy": "2025-03-03T12:14:31.617981Z",
     "iopub.status.idle": "2025-03-03T12:14:31.636469Z",
     "shell.execute_reply": "2025-03-03T12:14:31.635573Z"
    },
    "papermill": {
     "duration": 0.027405,
     "end_time": "2025-03-03T12:14:31.637587",
     "exception": false,
     "start_time": "2025-03-03T12:14:31.610182",
     "status": "completed"
    },
    "tags": []
   },
   "outputs": [
    {
     "name": "stdout",
     "output_type": "stream",
     "text": [
      "Teams missing seeds: {1152, 1154, 1282, 1410, 1415, 1289, 1162, 1170, 1171, 1302, 1303, 1176, 1430, 1306, 1432, 1312, 1440, 1442, 1188, 1189, 1445, 1446, 1327, 1456, 1464, 1465, 1466, 1467, 1468, 1469, 1342, 1215, 1470, 1471, 1346, 1219, 1472, 1349, 1473, 1223, 1474, 1475, 1476, 1477, 1478, 1357, 1230, 1479, 1480, 1236, 1109, 1366, 1367, 1370, 1118, 1119, 1121, 1377, 1126, 1383, 1128, 1132, 1134, 1262, 1263, 1271, 1146, 1147, 1404, 1405, 1399}\n"
     ]
    }
   ],
   "source": [
    "missing_seeds = set(reg_sns_cmpt_rst[\"WTeamID\"]) - set(m_seeds_processed[\"TeamID\"])\n",
    "print(\"Teams missing seeds:\", missing_seeds)"
   ]
  },
  {
   "cell_type": "code",
   "execution_count": 23,
   "id": "8065fcf4",
   "metadata": {
    "execution": {
     "iopub.execute_input": "2025-03-03T12:14:31.653188Z",
     "iopub.status.busy": "2025-03-03T12:14:31.652920Z",
     "iopub.status.idle": "2025-03-03T12:14:31.811951Z",
     "shell.execute_reply": "2025-03-03T12:14:31.810919Z"
    },
    "papermill": {
     "duration": 0.16808,
     "end_time": "2025-03-03T12:14:31.813157",
     "exception": false,
     "start_time": "2025-03-03T12:14:31.645077",
     "status": "completed"
    },
    "tags": []
   },
   "outputs": [
    {
     "name": "stdout",
     "output_type": "stream",
     "text": [
      "Available columns: Index(['Season', 'DayNum', 'WTeamID', 'WScore', 'LTeamID', 'LScore', 'WLoc',\n",
      "       'NumOT', 'WWinRate', 'LWinRate', 'WAvgPoints', 'LAvgPoints',\n",
      "       'WSeedRank', 'LSeedRank'],\n",
      "      dtype='object')\n"
     ]
    }
   ],
   "source": [
    "def merge_features(season_results, team_win_rate, team_points, seeds_processed):\n",
    "    df = season_results.copy()\n",
    "\n",
    "    df = df.merge(team_win_rate, left_on=\"WTeamID\", right_on=\"TeamID\", how=\"left\").rename(columns={\"WinRate\": \"WWinRate\"})\n",
    "    df.drop(columns=[\"TeamID\"], inplace=True)  # Drop duplicate TeamID\n",
    "\n",
    "    df = df.merge(team_win_rate, left_on=\"LTeamID\", right_on=\"TeamID\", how=\"left\").rename(columns={\"WinRate\": \"LWinRate\"})\n",
    "    df.drop(columns=[\"TeamID\"], inplace=True)  \n",
    "\n",
    "    df = df.merge(team_points, left_on=\"WTeamID\", right_on=\"TeamID\", how=\"left\").rename(columns={\"AvgPoints\": \"WAvgPoints\"})\n",
    "    df.drop(columns=[\"TeamID\"], inplace=True)  \n",
    "\n",
    "    df = df.merge(team_points, left_on=\"LTeamID\", right_on=\"TeamID\", how=\"left\").rename(columns={\"AvgPoints\": \"LAvgPoints\"})\n",
    "    df.drop(columns=[\"TeamID\"], inplace=True)  \n",
    "\n",
    "    df = df.merge(seeds_processed, left_on=[\"Season\", \"WTeamID\"], right_on=[\"Season\", \"TeamID\"], how=\"left\").rename(columns={\"SeedRank\": \"WSeedRank\"})\n",
    "    df.drop(columns=[\"TeamID\"], inplace=True)  \n",
    "\n",
    "    df = df.merge(seeds_processed, left_on=[\"Season\", \"LTeamID\"], right_on=[\"Season\", \"TeamID\"], how=\"left\").rename(columns={\"SeedRank\": \"LSeedRank\"})\n",
    "    df.drop(columns=[\"TeamID\"], inplace=True)  \n",
    "\n",
    "    # Debugging: Print available columns before accessing 'WSeedRank'\n",
    "    print(\"Available columns:\", df.columns)\n",
    "\n",
    "    df[\"WSeedRank\"] = df[\"WSeedRank\"].fillna(20)\n",
    "    df[\"LSeedRank\"] = df[\"LSeedRank\"].fillna(20)\n",
    "\n",
    "    df[\"SeedDiff\"] = df[\"WSeedRank\"] - df[\"LSeedRank\"]\n",
    "    df[\"WinRateDiff\"] = df[\"WWinRate\"] - df[\"LWinRate\"]\n",
    "    df[\"PointsDiff\"] = df[\"WAvgPoints\"] - df[\"LAvgPoints\"]\n",
    "    \n",
    "    return df[[\"Season\", \"WTeamID\", \"LTeamID\", \"SeedDiff\", \"WinRateDiff\", \"PointsDiff\", \"WScore\", \"LScore\"]]\n",
    "\n",
    "m_train_data = merge_features(reg_sns_cmpt_rst, m_team_win_rate, m_team_points, m_seeds_processed)"
   ]
  },
  {
   "cell_type": "code",
   "execution_count": 24,
   "id": "78c4aac2",
   "metadata": {
    "execution": {
     "iopub.execute_input": "2025-03-03T12:14:31.828682Z",
     "iopub.status.busy": "2025-03-03T12:14:31.828432Z",
     "iopub.status.idle": "2025-03-03T12:14:31.836600Z",
     "shell.execute_reply": "2025-03-03T12:14:31.835894Z"
    },
    "papermill": {
     "duration": 0.016998,
     "end_time": "2025-03-03T12:14:31.837767",
     "exception": false,
     "start_time": "2025-03-03T12:14:31.820769",
     "status": "completed"
    },
    "tags": []
   },
   "outputs": [
    {
     "data": {
      "text/html": [
       "<div>\n",
       "<style scoped>\n",
       "    .dataframe tbody tr th:only-of-type {\n",
       "        vertical-align: middle;\n",
       "    }\n",
       "\n",
       "    .dataframe tbody tr th {\n",
       "        vertical-align: top;\n",
       "    }\n",
       "\n",
       "    .dataframe thead th {\n",
       "        text-align: right;\n",
       "    }\n",
       "</style>\n",
       "<table border=\"1\" class=\"dataframe\">\n",
       "  <thead>\n",
       "    <tr style=\"text-align: right;\">\n",
       "      <th></th>\n",
       "      <th>Season</th>\n",
       "      <th>WTeamID</th>\n",
       "      <th>LTeamID</th>\n",
       "      <th>SeedDiff</th>\n",
       "      <th>WinRateDiff</th>\n",
       "      <th>PointsDiff</th>\n",
       "      <th>WScore</th>\n",
       "      <th>LScore</th>\n",
       "    </tr>\n",
       "  </thead>\n",
       "  <tbody>\n",
       "    <tr>\n",
       "      <th>0</th>\n",
       "      <td>1985</td>\n",
       "      <td>1228</td>\n",
       "      <td>1328</td>\n",
       "      <td>2.0</td>\n",
       "      <td>-0.010437</td>\n",
       "      <td>-4.169302</td>\n",
       "      <td>81</td>\n",
       "      <td>64</td>\n",
       "    </tr>\n",
       "    <tr>\n",
       "      <th>1</th>\n",
       "      <td>1985</td>\n",
       "      <td>1106</td>\n",
       "      <td>1354</td>\n",
       "      <td>0.0</td>\n",
       "      <td>-0.018970</td>\n",
       "      <td>1.287990</td>\n",
       "      <td>77</td>\n",
       "      <td>70</td>\n",
       "    </tr>\n",
       "    <tr>\n",
       "      <th>2</th>\n",
       "      <td>1985</td>\n",
       "      <td>1112</td>\n",
       "      <td>1223</td>\n",
       "      <td>-10.0</td>\n",
       "      <td>0.456969</td>\n",
       "      <td>3.155311</td>\n",
       "      <td>63</td>\n",
       "      <td>56</td>\n",
       "    </tr>\n",
       "    <tr>\n",
       "      <th>3</th>\n",
       "      <td>1985</td>\n",
       "      <td>1165</td>\n",
       "      <td>1432</td>\n",
       "      <td>0.0</td>\n",
       "      <td>0.029656</td>\n",
       "      <td>2.467857</td>\n",
       "      <td>70</td>\n",
       "      <td>54</td>\n",
       "    </tr>\n",
       "    <tr>\n",
       "      <th>4</th>\n",
       "      <td>1985</td>\n",
       "      <td>1192</td>\n",
       "      <td>1447</td>\n",
       "      <td>-4.0</td>\n",
       "      <td>-0.028017</td>\n",
       "      <td>0.599122</td>\n",
       "      <td>86</td>\n",
       "      <td>74</td>\n",
       "    </tr>\n",
       "  </tbody>\n",
       "</table>\n",
       "</div>"
      ],
      "text/plain": [
       "   Season  WTeamID  LTeamID  SeedDiff  WinRateDiff  PointsDiff  WScore  LScore\n",
       "0    1985     1228     1328       2.0    -0.010437   -4.169302      81      64\n",
       "1    1985     1106     1354       0.0    -0.018970    1.287990      77      70\n",
       "2    1985     1112     1223     -10.0     0.456969    3.155311      63      56\n",
       "3    1985     1165     1432       0.0     0.029656    2.467857      70      54\n",
       "4    1985     1192     1447      -4.0    -0.028017    0.599122      86      74"
      ]
     },
     "execution_count": 24,
     "metadata": {},
     "output_type": "execute_result"
    }
   ],
   "source": [
    "m_train_data.head()"
   ]
  },
  {
   "cell_type": "code",
   "execution_count": 25,
   "id": "799d1afe",
   "metadata": {
    "execution": {
     "iopub.execute_input": "2025-03-03T12:14:31.854860Z",
     "iopub.status.busy": "2025-03-03T12:14:31.854674Z",
     "iopub.status.idle": "2025-03-03T12:14:31.859044Z",
     "shell.execute_reply": "2025-03-03T12:14:31.858019Z"
    },
    "papermill": {
     "duration": 0.014229,
     "end_time": "2025-03-03T12:14:31.860329",
     "exception": false,
     "start_time": "2025-03-03T12:14:31.846100",
     "status": "completed"
    },
    "tags": []
   },
   "outputs": [
    {
     "data": {
      "text/plain": [
       "(191796, 8)"
      ]
     },
     "execution_count": 25,
     "metadata": {},
     "output_type": "execute_result"
    }
   ],
   "source": [
    "m_train_data.shape"
   ]
  },
  {
   "cell_type": "code",
   "execution_count": 26,
   "id": "48265ed7",
   "metadata": {
    "execution": {
     "iopub.execute_input": "2025-03-03T12:14:31.877044Z",
     "iopub.status.busy": "2025-03-03T12:14:31.876731Z",
     "iopub.status.idle": "2025-03-03T12:14:31.890548Z",
     "shell.execute_reply": "2025-03-03T12:14:31.889640Z"
    },
    "papermill": {
     "duration": 0.023383,
     "end_time": "2025-03-03T12:14:31.891705",
     "exception": false,
     "start_time": "2025-03-03T12:14:31.868322",
     "status": "completed"
    },
    "tags": []
   },
   "outputs": [
    {
     "name": "stdout",
     "output_type": "stream",
     "text": [
      "<class 'pandas.core.frame.DataFrame'>\n",
      "RangeIndex: 191796 entries, 0 to 191795\n",
      "Data columns (total 8 columns):\n",
      " #   Column       Non-Null Count   Dtype  \n",
      "---  ------       --------------   -----  \n",
      " 0   Season       191796 non-null  int64  \n",
      " 1   WTeamID      191796 non-null  int64  \n",
      " 2   LTeamID      191796 non-null  int64  \n",
      " 3   SeedDiff     191796 non-null  float64\n",
      " 4   WinRateDiff  191796 non-null  float64\n",
      " 5   PointsDiff   191796 non-null  float64\n",
      " 6   WScore       191796 non-null  int64  \n",
      " 7   LScore       191796 non-null  int64  \n",
      "dtypes: float64(3), int64(5)\n",
      "memory usage: 11.7 MB\n"
     ]
    }
   ],
   "source": [
    "m_train_data.info()"
   ]
  },
  {
   "cell_type": "code",
   "execution_count": 27,
   "id": "fc429eb2",
   "metadata": {
    "execution": {
     "iopub.execute_input": "2025-03-03T12:14:31.909928Z",
     "iopub.status.busy": "2025-03-03T12:14:31.909620Z",
     "iopub.status.idle": "2025-03-03T12:14:31.965987Z",
     "shell.execute_reply": "2025-03-03T12:14:31.965147Z"
    },
    "papermill": {
     "duration": 0.066179,
     "end_time": "2025-03-03T12:14:31.967167",
     "exception": false,
     "start_time": "2025-03-03T12:14:31.900988",
     "status": "completed"
    },
    "tags": []
   },
   "outputs": [
    {
     "data": {
      "text/html": [
       "<div>\n",
       "<style scoped>\n",
       "    .dataframe tbody tr th:only-of-type {\n",
       "        vertical-align: middle;\n",
       "    }\n",
       "\n",
       "    .dataframe tbody tr th {\n",
       "        vertical-align: top;\n",
       "    }\n",
       "\n",
       "    .dataframe thead th {\n",
       "        text-align: right;\n",
       "    }\n",
       "</style>\n",
       "<table border=\"1\" class=\"dataframe\">\n",
       "  <thead>\n",
       "    <tr style=\"text-align: right;\">\n",
       "      <th></th>\n",
       "      <th>Season</th>\n",
       "      <th>WTeamID</th>\n",
       "      <th>LTeamID</th>\n",
       "      <th>SeedDiff</th>\n",
       "      <th>WinRateDiff</th>\n",
       "      <th>PointsDiff</th>\n",
       "      <th>WScore</th>\n",
       "      <th>LScore</th>\n",
       "    </tr>\n",
       "  </thead>\n",
       "  <tbody>\n",
       "    <tr>\n",
       "      <th>count</th>\n",
       "      <td>191796.000000</td>\n",
       "      <td>191796.000000</td>\n",
       "      <td>191796.000000</td>\n",
       "      <td>191796.000000</td>\n",
       "      <td>191796.000000</td>\n",
       "      <td>191796.000000</td>\n",
       "      <td>191796.000000</td>\n",
       "      <td>191796.000000</td>\n",
       "    </tr>\n",
       "    <tr>\n",
       "      <th>mean</th>\n",
       "      <td>2006.271257</td>\n",
       "      <td>1287.599757</td>\n",
       "      <td>1283.342286</td>\n",
       "      <td>-2.292295</td>\n",
       "      <td>0.042872</td>\n",
       "      <td>0.364699</td>\n",
       "      <td>76.855664</td>\n",
       "      <td>64.771205</td>\n",
       "    </tr>\n",
       "    <tr>\n",
       "      <th>std</th>\n",
       "      <td>11.623911</td>\n",
       "      <td>104.920419</td>\n",
       "      <td>105.102958</td>\n",
       "      <td>5.985716</td>\n",
       "      <td>0.117313</td>\n",
       "      <td>2.807199</td>\n",
       "      <td>11.833224</td>\n",
       "      <td>11.201711</td>\n",
       "    </tr>\n",
       "    <tr>\n",
       "      <th>min</th>\n",
       "      <td>1985.000000</td>\n",
       "      <td>1101.000000</td>\n",
       "      <td>1101.000000</td>\n",
       "      <td>-19.000000</td>\n",
       "      <td>-0.453670</td>\n",
       "      <td>-19.585925</td>\n",
       "      <td>34.000000</td>\n",
       "      <td>20.000000</td>\n",
       "    </tr>\n",
       "    <tr>\n",
       "      <th>25%</th>\n",
       "      <td>1996.000000</td>\n",
       "      <td>1199.000000</td>\n",
       "      <td>1191.000000</td>\n",
       "      <td>-4.000000</td>\n",
       "      <td>-0.036364</td>\n",
       "      <td>-1.356330</td>\n",
       "      <td>69.000000</td>\n",
       "      <td>57.000000</td>\n",
       "    </tr>\n",
       "    <tr>\n",
       "      <th>50%</th>\n",
       "      <td>2007.000000</td>\n",
       "      <td>1285.000000</td>\n",
       "      <td>1281.000000</td>\n",
       "      <td>0.000000</td>\n",
       "      <td>0.040243</td>\n",
       "      <td>0.303698</td>\n",
       "      <td>76.000000</td>\n",
       "      <td>64.000000</td>\n",
       "    </tr>\n",
       "    <tr>\n",
       "      <th>75%</th>\n",
       "      <td>2016.000000</td>\n",
       "      <td>1380.000000</td>\n",
       "      <td>1375.000000</td>\n",
       "      <td>0.000000</td>\n",
       "      <td>0.117541</td>\n",
       "      <td>2.123277</td>\n",
       "      <td>84.000000</td>\n",
       "      <td>72.000000</td>\n",
       "    </tr>\n",
       "    <tr>\n",
       "      <th>max</th>\n",
       "      <td>2025.000000</td>\n",
       "      <td>1480.000000</td>\n",
       "      <td>1480.000000</td>\n",
       "      <td>19.000000</td>\n",
       "      <td>0.559362</td>\n",
       "      <td>19.585925</td>\n",
       "      <td>186.000000</td>\n",
       "      <td>150.000000</td>\n",
       "    </tr>\n",
       "  </tbody>\n",
       "</table>\n",
       "</div>"
      ],
      "text/plain": [
       "              Season        WTeamID        LTeamID       SeedDiff  \\\n",
       "count  191796.000000  191796.000000  191796.000000  191796.000000   \n",
       "mean     2006.271257    1287.599757    1283.342286      -2.292295   \n",
       "std        11.623911     104.920419     105.102958       5.985716   \n",
       "min      1985.000000    1101.000000    1101.000000     -19.000000   \n",
       "25%      1996.000000    1199.000000    1191.000000      -4.000000   \n",
       "50%      2007.000000    1285.000000    1281.000000       0.000000   \n",
       "75%      2016.000000    1380.000000    1375.000000       0.000000   \n",
       "max      2025.000000    1480.000000    1480.000000      19.000000   \n",
       "\n",
       "         WinRateDiff     PointsDiff         WScore         LScore  \n",
       "count  191796.000000  191796.000000  191796.000000  191796.000000  \n",
       "mean        0.042872       0.364699      76.855664      64.771205  \n",
       "std         0.117313       2.807199      11.833224      11.201711  \n",
       "min        -0.453670     -19.585925      34.000000      20.000000  \n",
       "25%        -0.036364      -1.356330      69.000000      57.000000  \n",
       "50%         0.040243       0.303698      76.000000      64.000000  \n",
       "75%         0.117541       2.123277      84.000000      72.000000  \n",
       "max         0.559362      19.585925     186.000000     150.000000  "
      ]
     },
     "execution_count": 27,
     "metadata": {},
     "output_type": "execute_result"
    }
   ],
   "source": [
    "m_train_data.describe()"
   ]
  },
  {
   "cell_type": "code",
   "execution_count": 28,
   "id": "68de2078",
   "metadata": {
    "execution": {
     "iopub.execute_input": "2025-03-03T12:14:31.983912Z",
     "iopub.status.busy": "2025-03-03T12:14:31.983608Z",
     "iopub.status.idle": "2025-03-03T12:14:32.562516Z",
     "shell.execute_reply": "2025-03-03T12:14:32.561730Z"
    },
    "papermill": {
     "duration": 0.588775,
     "end_time": "2025-03-03T12:14:32.564090",
     "exception": false,
     "start_time": "2025-03-03T12:14:31.975315",
     "status": "completed"
    },
    "tags": []
   },
   "outputs": [],
   "source": [
    "m_train_data.to_csv(\"Processed_Men_Train.csv\", index=False)"
   ]
  },
  {
   "cell_type": "code",
   "execution_count": 29,
   "id": "e9e2d671",
   "metadata": {
    "execution": {
     "iopub.execute_input": "2025-03-03T12:14:32.581991Z",
     "iopub.status.busy": "2025-03-03T12:14:32.581702Z",
     "iopub.status.idle": "2025-03-03T12:14:32.585929Z",
     "shell.execute_reply": "2025-03-03T12:14:32.585315Z"
    },
    "papermill": {
     "duration": 0.01443,
     "end_time": "2025-03-03T12:14:32.587022",
     "exception": false,
     "start_time": "2025-03-03T12:14:32.572592",
     "status": "completed"
    },
    "tags": []
   },
   "outputs": [],
   "source": [
    "m_train_data[\"WTeamWin\"] = 1  # Winning team labeled as 1\n",
    "m_train_data[\"LTeamWin\"] = 0  # Losing team labeled as 0"
   ]
  },
  {
   "cell_type": "code",
   "execution_count": 30,
   "id": "02dd1e87",
   "metadata": {
    "execution": {
     "iopub.execute_input": "2025-03-03T12:14:32.604498Z",
     "iopub.status.busy": "2025-03-03T12:14:32.604270Z",
     "iopub.status.idle": "2025-03-03T12:14:32.612403Z",
     "shell.execute_reply": "2025-03-03T12:14:32.611763Z"
    },
    "papermill": {
     "duration": 0.01737,
     "end_time": "2025-03-03T12:14:32.613481",
     "exception": false,
     "start_time": "2025-03-03T12:14:32.596111",
     "status": "completed"
    },
    "tags": []
   },
   "outputs": [],
   "source": [
    "df_wins = m_train_data[[\"Season\", \"WTeamID\", \"LTeamID\", \"SeedDiff\", \"WinRateDiff\", \"PointsDiff\", \"WTeamWin\"]]\n",
    "df_losses = m_train_data[[\"Season\", \"LTeamID\", \"WTeamID\", \"SeedDiff\", \"WinRateDiff\", \"PointsDiff\", \"LTeamWin\"]]\n",
    "\n",
    "df_wins.columns = [\"Season\", \"Team1\", \"Team2\", \"SeedDiff\", \"WinRateDiff\", \"PointsDiff\", \"Win\"]\n",
    "df_losses.columns = [\"Season\", \"Team1\", \"Team2\", \"SeedDiff\", \"WinRateDiff\", \"PointsDiff\", \"Win\"]"
   ]
  },
  {
   "cell_type": "code",
   "execution_count": 31,
   "id": "3f6e660f",
   "metadata": {
    "execution": {
     "iopub.execute_input": "2025-03-03T12:14:32.629269Z",
     "iopub.status.busy": "2025-03-03T12:14:32.629067Z",
     "iopub.status.idle": "2025-03-03T12:14:32.667302Z",
     "shell.execute_reply": "2025-03-03T12:14:32.666548Z"
    },
    "papermill": {
     "duration": 0.047607,
     "end_time": "2025-03-03T12:14:32.668682",
     "exception": false,
     "start_time": "2025-03-03T12:14:32.621075",
     "status": "completed"
    },
    "tags": []
   },
   "outputs": [],
   "source": [
    "df_full = pd.concat([df_wins, df_losses])\n",
    "\n",
    "df_full.dropna(inplace=True)  # Remove missing values"
   ]
  },
  {
   "cell_type": "code",
   "execution_count": 32,
   "id": "f988e00c",
   "metadata": {
    "execution": {
     "iopub.execute_input": "2025-03-03T12:14:32.685066Z",
     "iopub.status.busy": "2025-03-03T12:14:32.684797Z",
     "iopub.status.idle": "2025-03-03T12:14:33.548976Z",
     "shell.execute_reply": "2025-03-03T12:14:33.548233Z"
    },
    "papermill": {
     "duration": 0.873751,
     "end_time": "2025-03-03T12:14:33.550420",
     "exception": false,
     "start_time": "2025-03-03T12:14:32.676669",
     "status": "completed"
    },
    "tags": []
   },
   "outputs": [],
   "source": [
    "from sklearn.model_selection import train_test_split, GridSearchCV\n",
    "from sklearn.ensemble import RandomForestClassifier\n",
    "from sklearn.linear_model import LogisticRegression\n",
    "from xgboost import XGBClassifier\n",
    "from sklearn.metrics import brier_score_loss"
   ]
  },
  {
   "cell_type": "code",
   "execution_count": 33,
   "id": "7c594c19",
   "metadata": {
    "execution": {
     "iopub.execute_input": "2025-03-03T12:14:33.567031Z",
     "iopub.status.busy": "2025-03-03T12:14:33.566765Z",
     "iopub.status.idle": "2025-03-03T12:14:33.589272Z",
     "shell.execute_reply": "2025-03-03T12:14:33.588500Z"
    },
    "papermill": {
     "duration": 0.031692,
     "end_time": "2025-03-03T12:14:33.590320",
     "exception": false,
     "start_time": "2025-03-03T12:14:33.558628",
     "status": "completed"
    },
    "tags": []
   },
   "outputs": [],
   "source": [
    "X = df_full[[\"SeedDiff\", \"WinRateDiff\", \"PointsDiff\"]]\n",
    "y = df_full[\"Win\"]\n",
    "X_train, X_test, y_train, y_test = train_test_split(X, y, test_size=0.2, random_state=42)"
   ]
  },
  {
   "cell_type": "code",
   "execution_count": 34,
   "id": "6891791b",
   "metadata": {
    "execution": {
     "iopub.execute_input": "2025-03-03T12:14:33.606342Z",
     "iopub.status.busy": "2025-03-03T12:14:33.606134Z",
     "iopub.status.idle": "2025-03-03T12:14:33.609588Z",
     "shell.execute_reply": "2025-03-03T12:14:33.608882Z"
    },
    "papermill": {
     "duration": 0.012635,
     "end_time": "2025-03-03T12:14:33.610648",
     "exception": false,
     "start_time": "2025-03-03T12:14:33.598013",
     "status": "completed"
    },
    "tags": []
   },
   "outputs": [],
   "source": [
    "models = {\n",
    "    \"Logistic Regression\": LogisticRegression(max_iter=1000),\n",
    "    \"Random Forest\": RandomForestClassifier(n_estimators=100, random_state=42),\n",
    "    \"XGBoost\": XGBClassifier(use_label_encoder=False, eval_metric='logloss')\n",
    "}\n",
    "\n",
    "best_model = None\n",
    "best_score = float(\"inf\")"
   ]
  },
  {
   "cell_type": "code",
   "execution_count": 35,
   "id": "02af762c",
   "metadata": {
    "execution": {
     "iopub.execute_input": "2025-03-03T12:14:33.629216Z",
     "iopub.status.busy": "2025-03-03T12:14:33.628918Z",
     "iopub.status.idle": "2025-03-03T12:15:44.258889Z",
     "shell.execute_reply": "2025-03-03T12:15:44.257917Z"
    },
    "papermill": {
     "duration": 70.640404,
     "end_time": "2025-03-03T12:15:44.260093",
     "exception": false,
     "start_time": "2025-03-03T12:14:33.619689",
     "status": "completed"
    },
    "tags": []
   },
   "outputs": [
    {
     "name": "stdout",
     "output_type": "stream",
     "text": [
      "Logistic Regression Brier Score: 0.250008626573995\n",
      "Random Forest Brier Score: 0.38554182006459853\n",
      "XGBoost Brier Score: 0.2559581424339882\n",
      "Best Model: LogisticRegression(max_iter=1000)\n"
     ]
    }
   ],
   "source": [
    "for name, model in models.items():\n",
    "    model.fit(X_train, y_train)\n",
    "    y_pred = model.predict_proba(X_test)[:, 1]\n",
    "    score = brier_score_loss(y_test, y_pred)\n",
    "    print(f\"{name} Brier Score: {score}\")\n",
    "    \n",
    "    if score < best_score:\n",
    "        best_score = score\n",
    "        best_model = model\n",
    "\n",
    "print(f\"Best Model: {best_model}\")"
   ]
  },
  {
   "cell_type": "code",
   "execution_count": 36,
   "id": "97202cbd",
   "metadata": {
    "execution": {
     "iopub.execute_input": "2025-03-03T12:15:44.277290Z",
     "iopub.status.busy": "2025-03-03T12:15:44.277024Z",
     "iopub.status.idle": "2025-03-03T12:15:46.583352Z",
     "shell.execute_reply": "2025-03-03T12:15:46.582323Z"
    },
    "papermill": {
     "duration": 2.316023,
     "end_time": "2025-03-03T12:15:46.584615",
     "exception": false,
     "start_time": "2025-03-03T12:15:44.268592",
     "status": "completed"
    },
    "tags": []
   },
   "outputs": [
    {
     "name": "stdout",
     "output_type": "stream",
     "text": [
      "Best Params: {'C': 0.1}\n"
     ]
    }
   ],
   "source": [
    "if isinstance(best_model, RandomForestClassifier):\n",
    "    param_grid = {\"n_estimators\": [100, 200, 300], \"max_depth\": [5, 10, 20]}\n",
    "elif isinstance(best_model, XGBClassifier):\n",
    "    param_grid = {\"n_estimators\": [100, 200], \"max_depth\": [3, 6], \"learning_rate\": [0.01, 0.1]}\n",
    "elif isinstance(best_model, LogisticRegression):\n",
    "    param_grid = {\"C\": [0.1, 1, 10]}\n",
    "\n",
    "grid_search = GridSearchCV(best_model, param_grid, cv=5, scoring='neg_brier_score')\n",
    "grid_search.fit(X_train, y_train)\n",
    "print(\"Best Params:\", grid_search.best_params_)"
   ]
  },
  {
   "cell_type": "code",
   "execution_count": 37,
   "id": "41f22adb",
   "metadata": {
    "execution": {
     "iopub.execute_input": "2025-03-03T12:15:46.601905Z",
     "iopub.status.busy": "2025-03-03T12:15:46.601527Z",
     "iopub.status.idle": "2025-03-03T12:15:47.829601Z",
     "shell.execute_reply": "2025-03-03T12:15:47.828746Z"
    },
    "papermill": {
     "duration": 1.237917,
     "end_time": "2025-03-03T12:15:47.830903",
     "exception": false,
     "start_time": "2025-03-03T12:15:46.592986",
     "status": "completed"
    },
    "tags": []
   },
   "outputs": [],
   "source": [
    "prediction_df = pd.read_csv(\"/kaggle/input/march-machine-learning-mania-2025/SampleSubmissionStage1.csv\")\n",
    "prediction_df[[\"Season\", \"Team1\", \"Team2\"]] = prediction_df[\"ID\"].str.split(\"_\", expand=True)\n",
    "prediction_df[[\"Season\", \"Team1\", \"Team2\"]] = prediction_df[[\"Season\", \"Team1\", \"Team2\"]].astype(int)"
   ]
  },
  {
   "cell_type": "code",
   "execution_count": 38,
   "id": "3ba42db7",
   "metadata": {
    "execution": {
     "iopub.execute_input": "2025-03-03T12:15:47.851766Z",
     "iopub.status.busy": "2025-03-03T12:15:47.851324Z",
     "iopub.status.idle": "2025-03-03T12:15:47.860400Z",
     "shell.execute_reply": "2025-03-03T12:15:47.859709Z"
    },
    "papermill": {
     "duration": 0.022121,
     "end_time": "2025-03-03T12:15:47.861740",
     "exception": false,
     "start_time": "2025-03-03T12:15:47.839619",
     "status": "completed"
    },
    "tags": []
   },
   "outputs": [
    {
     "data": {
      "text/html": [
       "<div>\n",
       "<style scoped>\n",
       "    .dataframe tbody tr th:only-of-type {\n",
       "        vertical-align: middle;\n",
       "    }\n",
       "\n",
       "    .dataframe tbody tr th {\n",
       "        vertical-align: top;\n",
       "    }\n",
       "\n",
       "    .dataframe thead th {\n",
       "        text-align: right;\n",
       "    }\n",
       "</style>\n",
       "<table border=\"1\" class=\"dataframe\">\n",
       "  <thead>\n",
       "    <tr style=\"text-align: right;\">\n",
       "      <th></th>\n",
       "      <th>ID</th>\n",
       "      <th>Pred</th>\n",
       "      <th>Season</th>\n",
       "      <th>Team1</th>\n",
       "      <th>Team2</th>\n",
       "    </tr>\n",
       "  </thead>\n",
       "  <tbody>\n",
       "    <tr>\n",
       "      <th>0</th>\n",
       "      <td>2021_1101_1102</td>\n",
       "      <td>0.5</td>\n",
       "      <td>2021</td>\n",
       "      <td>1101</td>\n",
       "      <td>1102</td>\n",
       "    </tr>\n",
       "    <tr>\n",
       "      <th>1</th>\n",
       "      <td>2021_1101_1103</td>\n",
       "      <td>0.5</td>\n",
       "      <td>2021</td>\n",
       "      <td>1101</td>\n",
       "      <td>1103</td>\n",
       "    </tr>\n",
       "    <tr>\n",
       "      <th>2</th>\n",
       "      <td>2021_1101_1104</td>\n",
       "      <td>0.5</td>\n",
       "      <td>2021</td>\n",
       "      <td>1101</td>\n",
       "      <td>1104</td>\n",
       "    </tr>\n",
       "    <tr>\n",
       "      <th>3</th>\n",
       "      <td>2021_1101_1105</td>\n",
       "      <td>0.5</td>\n",
       "      <td>2021</td>\n",
       "      <td>1101</td>\n",
       "      <td>1105</td>\n",
       "    </tr>\n",
       "    <tr>\n",
       "      <th>4</th>\n",
       "      <td>2021_1101_1106</td>\n",
       "      <td>0.5</td>\n",
       "      <td>2021</td>\n",
       "      <td>1101</td>\n",
       "      <td>1106</td>\n",
       "    </tr>\n",
       "  </tbody>\n",
       "</table>\n",
       "</div>"
      ],
      "text/plain": [
       "               ID  Pred  Season  Team1  Team2\n",
       "0  2021_1101_1102   0.5    2021   1101   1102\n",
       "1  2021_1101_1103   0.5    2021   1101   1103\n",
       "2  2021_1101_1104   0.5    2021   1101   1104\n",
       "3  2021_1101_1105   0.5    2021   1101   1105\n",
       "4  2021_1101_1106   0.5    2021   1101   1106"
      ]
     },
     "execution_count": 38,
     "metadata": {},
     "output_type": "execute_result"
    }
   ],
   "source": [
    "prediction_df.head()"
   ]
  },
  {
   "cell_type": "code",
   "execution_count": 39,
   "id": "89424e83",
   "metadata": {
    "execution": {
     "iopub.execute_input": "2025-03-03T12:15:47.933823Z",
     "iopub.status.busy": "2025-03-03T12:15:47.933519Z",
     "iopub.status.idle": "2025-03-03T12:15:48.052714Z",
     "shell.execute_reply": "2025-03-03T12:15:48.049669Z"
    },
    "papermill": {
     "duration": 0.1331,
     "end_time": "2025-03-03T12:15:48.056641",
     "exception": false,
     "start_time": "2025-03-03T12:15:47.923541",
     "status": "completed"
    },
    "tags": []
   },
   "outputs": [],
   "source": [
    "# Merge Seeds (fill missing values with \"W01\")\n",
    "prediction_df = prediction_df.merge(m_seeds_processed, left_on=[\"Season\", \"Team1\"], right_on=[\"Season\", \"TeamID\"], how=\"left\").rename(columns={\"SeedRank\": \"Seed1\"})\n",
    "prediction_df = prediction_df.merge(m_seeds_processed, left_on=[\"Season\", \"Team2\"], right_on=[\"Season\", \"TeamID\"], how=\"left\").rename(columns={\"SeedRank\": \"Seed2\"})\n",
    "prediction_df.drop(columns=[\"TeamID_x\", \"TeamID_y\"], inplace=True)\n",
    "prediction_df.fillna({\"Seed1\": 16, \"Seed2\": 16}, inplace=True)"
   ]
  },
  {
   "cell_type": "code",
   "execution_count": 40,
   "id": "03ffd4fa",
   "metadata": {
    "execution": {
     "iopub.execute_input": "2025-03-03T12:15:48.075560Z",
     "iopub.status.busy": "2025-03-03T12:15:48.075301Z",
     "iopub.status.idle": "2025-03-03T12:15:48.302639Z",
     "shell.execute_reply": "2025-03-03T12:15:48.301848Z"
    },
    "papermill": {
     "duration": 0.23724,
     "end_time": "2025-03-03T12:15:48.304064",
     "exception": false,
     "start_time": "2025-03-03T12:15:48.066824",
     "status": "completed"
    },
    "tags": []
   },
   "outputs": [],
   "source": [
    "# Merge Team Stats (Win Rate, Avg Points, etc.)\n",
    "prediction_df = prediction_df.merge(m_team_win_rate, left_on=\"Team1\", right_on=\"TeamID\", how=\"left\").rename(columns={\"WinRate\": \"WinRate1\"}).drop(columns=[\"TeamID\"])\n",
    "prediction_df = prediction_df.merge(m_team_win_rate, left_on=\"Team2\", right_on=\"TeamID\", how=\"left\").rename(columns={\"WinRate\": \"WinRate2\"}).drop(columns=[\"TeamID\"])\n",
    "\n",
    "prediction_df = prediction_df.merge(m_team_points, left_on=\"Team1\", right_on=\"TeamID\", how=\"left\").rename(columns={\"AvgPoints\": \"AvgPoints1\"}).drop(columns=[\"TeamID\"])\n",
    "prediction_df = prediction_df.merge(m_team_points, left_on=\"Team2\", right_on=\"TeamID\", how=\"left\").rename(columns={\"AvgPoints\": \"AvgPoints2\"}).drop(columns=[\"TeamID\"])"
   ]
  },
  {
   "cell_type": "code",
   "execution_count": 41,
   "id": "e9079e09",
   "metadata": {
    "execution": {
     "iopub.execute_input": "2025-03-03T12:15:48.321437Z",
     "iopub.status.busy": "2025-03-03T12:15:48.321211Z",
     "iopub.status.idle": "2025-03-03T12:15:48.328784Z",
     "shell.execute_reply": "2025-03-03T12:15:48.328058Z"
    },
    "papermill": {
     "duration": 0.017093,
     "end_time": "2025-03-03T12:15:48.329918",
     "exception": false,
     "start_time": "2025-03-03T12:15:48.312825",
     "status": "completed"
    },
    "tags": []
   },
   "outputs": [],
   "source": [
    "# Compute Feature Differences\n",
    "prediction_df[\"SeedDiff\"] = prediction_df[\"Seed1\"] - prediction_df[\"Seed2\"]\n",
    "prediction_df[\"WinRateDiff\"] = prediction_df[\"WinRate1\"] - prediction_df[\"WinRate2\"]\n",
    "prediction_df[\"PointsDiff\"] = prediction_df[\"AvgPoints1\"] - prediction_df[\"AvgPoints2\"]"
   ]
  },
  {
   "cell_type": "code",
   "execution_count": 42,
   "id": "66403b5b",
   "metadata": {
    "execution": {
     "iopub.execute_input": "2025-03-03T12:15:48.347511Z",
     "iopub.status.busy": "2025-03-03T12:15:48.347243Z",
     "iopub.status.idle": "2025-03-03T12:15:48.980881Z",
     "shell.execute_reply": "2025-03-03T12:15:48.980134Z"
    },
    "papermill": {
     "duration": 0.643746,
     "end_time": "2025-03-03T12:15:48.982291",
     "exception": false,
     "start_time": "2025-03-03T12:15:48.338545",
     "status": "completed"
    },
    "tags": []
   },
   "outputs": [
    {
     "name": "stderr",
     "output_type": "stream",
     "text": [
      "<ipython-input-42-e33dbec49c6a>:7: FutureWarning: A value is trying to be set on a copy of a DataFrame or Series through chained assignment using an inplace method.\n",
      "The behavior will change in pandas 3.0. This inplace method will never work because the intermediate object on which we are setting values always behaves as a copy.\n",
      "\n",
      "For example, when doing 'df[col].method(value, inplace=True)', try using 'df.method({col: value}, inplace=True)' or df[col] = df[col].method(value) instead, to perform the operation inplace on the original object.\n",
      "\n",
      "\n",
      "  prediction_df[\"Pred\"].fillna(0.5, inplace=True)\n"
     ]
    }
   ],
   "source": [
    "X_test = prediction_df[[\"SeedDiff\", \"WinRateDiff\", \"PointsDiff\"]].fillna(0)\n",
    "\n",
    "# Make predictions\n",
    "prediction_df[\"Pred\"] = best_model.predict_proba(X_test)[:, 1]\n",
    "\n",
    "# Fill NaN predictions with 0.5 (since match is not played)\n",
    "prediction_df[\"Pred\"].fillna(0.5, inplace=True)\n",
    "\n",
    "# Prepare submission file\n",
    "submission_df = prediction_df[[\"ID\", \"Pred\"]]\n",
    "submission_df.to_csv(\"submission.csv\", index=False)"
   ]
  },
  {
   "cell_type": "code",
   "execution_count": 43,
   "id": "20128b93",
   "metadata": {
    "execution": {
     "iopub.execute_input": "2025-03-03T12:15:49.000439Z",
     "iopub.status.busy": "2025-03-03T12:15:49.000135Z",
     "iopub.status.idle": "2025-03-03T12:15:49.006698Z",
     "shell.execute_reply": "2025-03-03T12:15:49.005985Z"
    },
    "papermill": {
     "duration": 0.016559,
     "end_time": "2025-03-03T12:15:49.007736",
     "exception": false,
     "start_time": "2025-03-03T12:15:48.991177",
     "status": "completed"
    },
    "tags": []
   },
   "outputs": [
    {
     "data": {
      "text/html": [
       "<div>\n",
       "<style scoped>\n",
       "    .dataframe tbody tr th:only-of-type {\n",
       "        vertical-align: middle;\n",
       "    }\n",
       "\n",
       "    .dataframe tbody tr th {\n",
       "        vertical-align: top;\n",
       "    }\n",
       "\n",
       "    .dataframe thead th {\n",
       "        text-align: right;\n",
       "    }\n",
       "</style>\n",
       "<table border=\"1\" class=\"dataframe\">\n",
       "  <thead>\n",
       "    <tr style=\"text-align: right;\">\n",
       "      <th></th>\n",
       "      <th>ID</th>\n",
       "      <th>Pred</th>\n",
       "    </tr>\n",
       "  </thead>\n",
       "  <tbody>\n",
       "    <tr>\n",
       "      <th>0</th>\n",
       "      <td>2021_1101_1102</td>\n",
       "      <td>0.498286</td>\n",
       "    </tr>\n",
       "    <tr>\n",
       "      <th>1</th>\n",
       "      <td>2021_1101_1103</td>\n",
       "      <td>0.499735</td>\n",
       "    </tr>\n",
       "    <tr>\n",
       "      <th>2</th>\n",
       "      <td>2021_1101_1104</td>\n",
       "      <td>0.500533</td>\n",
       "    </tr>\n",
       "    <tr>\n",
       "      <th>3</th>\n",
       "      <td>2021_1101_1105</td>\n",
       "      <td>0.499013</td>\n",
       "    </tr>\n",
       "    <tr>\n",
       "      <th>4</th>\n",
       "      <td>2021_1101_1106</td>\n",
       "      <td>0.499845</td>\n",
       "    </tr>\n",
       "  </tbody>\n",
       "</table>\n",
       "</div>"
      ],
      "text/plain": [
       "               ID      Pred\n",
       "0  2021_1101_1102  0.498286\n",
       "1  2021_1101_1103  0.499735\n",
       "2  2021_1101_1104  0.500533\n",
       "3  2021_1101_1105  0.499013\n",
       "4  2021_1101_1106  0.499845"
      ]
     },
     "execution_count": 43,
     "metadata": {},
     "output_type": "execute_result"
    }
   ],
   "source": [
    "submission_df.head()"
   ]
  }
 ],
 "metadata": {
  "kaggle": {
   "accelerator": "none",
   "dataSources": [
    {
     "databundleVersionId": 11165145,
     "sourceId": 91497,
     "sourceType": "competition"
    }
   ],
   "dockerImageVersionId": 30918,
   "isGpuEnabled": false,
   "isInternetEnabled": true,
   "language": "python",
   "sourceType": "notebook"
  },
  "kernelspec": {
   "display_name": "Python 3",
   "language": "python",
   "name": "python3"
  },
  "language_info": {
   "codemirror_mode": {
    "name": "ipython",
    "version": 3
   },
   "file_extension": ".py",
   "mimetype": "text/x-python",
   "name": "python",
   "nbconvert_exporter": "python",
   "pygments_lexer": "ipython3",
   "version": "3.10.12"
  },
  "papermill": {
   "default_parameters": {},
   "duration": 83.711281,
   "end_time": "2025-03-03T12:15:49.733678",
   "environment_variables": {},
   "exception": null,
   "input_path": "__notebook__.ipynb",
   "output_path": "__notebook__.ipynb",
   "parameters": {},
   "start_time": "2025-03-03T12:14:26.022397",
   "version": "2.6.0"
  }
 },
 "nbformat": 4,
 "nbformat_minor": 5
}
